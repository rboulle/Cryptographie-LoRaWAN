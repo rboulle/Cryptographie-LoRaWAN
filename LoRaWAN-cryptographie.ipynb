{
 "cells": [
  {
   "cell_type": "markdown",
   "metadata": {},
   "source": [
    "# Chiffrement en LoRaWAN v1.1\n",
    "\n",
    "<div class=\"alert alert-warning\">\n",
    "\"Always operate on raw bytes, never on encoded strings. Only use hex and base64 for pretty-printing.\"\n",
    "</div>\n",
    "\n",
    "La norme : https://lora-alliance.org/sites/default/files/2018-04/lorawantm_specification_-v1.1.pdf\n",
    "\n",
    "## Généralités : modes ABP ou OTAA\n",
    "\n",
    "ABP (\"Activation ny Personalization\") : mode d'activation du device dans lequel la _DevAddr_ et les deux clés de sessions _NwkSKey_ et _AppSKey_ sont définies par le concepteur et stockées à la fois dans le device et dans le serveur de réseau. Il n'y a donc pas de négociation de clés de chiffrement comme dans le mode OTAA.\n",
    "\n",
    "OTAA (\"Over The Air Authentication\") : le device contient en dur les _DevEUI_, _AppEUI_ et _AppKey_. Ces valeurs sont là aussi définies par le concepteur et stockées aussi dans le serveur de réseau. Lors de la procédure de _join_, le device va négocier avec le serveur de réseau la _DevAddr_ et les deux clés de sessions _NwkSKey_ et _AppSKey_.\n",
    "\n",
    "Ensuite, que ce soit en ABP ou on OTAA, le chiffrement et la signature des messages se fera à partir des clés _NwkSKey_ et _AppSKey_\n",
    "\n",
    "Ici, nous prenons un device dont voici les clés. Elles peuvent être lues dans l'interface du serveur de réseau. \n",
    "\n",
    "Le but ici est de faire tout le procédé de chiffrement utiiisé par le proctole LoRaWAN et, par la même occasion, de voir en détail comment est construit un paquet LoRaWAN."
   ]
  },
  {
   "cell_type": "code",
   "execution_count": 1,
   "metadata": {},
   "outputs": [],
   "source": [
    "DevAddr = \"018e4b26\"\n",
    "NwkSkey = \"026e26a58c4f234c3b9924f86dcad3a9\"\n",
    "AppSKey = \"dd0a32bf8b4082bc4a0017e99c1517d6\""
   ]
  },
  {
   "cell_type": "markdown",
   "metadata": {},
   "source": [
    "En nous abonnant au flux MQTT d'une passerelle, nous avons pu intercepter une des _phyPayLoad_ de notre device. Bien sûr, une partie de celle-ci a été chiffrée à partir des clés ci-dessus. C'est un message _uplink_. Nous allons donc essayer de déchiffrer \"manuellement\" le message..."
   ]
  },
  {
   "cell_type": "code",
   "execution_count": 2,
   "metadata": {},
   "outputs": [],
   "source": [
    "#phyPayload = \"QCZLjgGC4woFAwHcYJuX0c/5zJVZCw6brV8=\" #OK\n",
    "phyPayload = \"QCZLjgGAngEBwwW4exCLA/TTNLkujCpy\" #NOK"
   ]
  },
  {
   "cell_type": "markdown",
   "metadata": {},
   "source": [
    "<div class=\"alert alert-success\">\n",
    "Attention, en LoRaWAN, les paquets sont codés en base 64 et nous devons travailler en binaire\n",
    "</div>\n",
    "\n",
    "D'où :"
   ]
  },
  {
   "cell_type": "code",
   "execution_count": 3,
   "metadata": {},
   "outputs": [
    {
     "name": "stdout",
     "output_type": "stream",
     "text": [
      "b'@&K\\x8e\\x01\\x80\\x9e\\x01\\x01\\xc3\\x05\\xb8{\\x10\\x8b\\x03\\xf4\\xd34\\xb9.\\x8c*r'\n"
     ]
    }
   ],
   "source": [
    "import base64\n",
    "binData = base64.b64decode(phyPayload)\n",
    "print(binData)"
   ]
  },
  {
   "cell_type": "markdown",
   "metadata": {},
   "source": [
    "Inutile ici mais, affichons la représentation hexadécimale des données binaires. \n",
    "\n",
    "Chaque octet doit être converti dans sa représentation héxadécimale sur deux chiffres. \n",
    "\n",
    "La chaîne obtenue est donc deux fois plus longue que le binaire (cf https://docs.python.org/2/library/binascii.html)"
   ]
  },
  {
   "cell_type": "code",
   "execution_count": 4,
   "metadata": {},
   "outputs": [
    {
     "name": "stdout",
     "output_type": "stream",
     "text": [
      "phyPayload décodée : 40264b8e01809e0101c305b87b108b03f4d334b92e8c2a72\n"
     ]
    }
   ],
   "source": [
    "print(\"phyPayload décodée : {}\".format(binData.hex()))"
   ]
  },
  {
   "cell_type": "markdown",
   "metadata": {},
   "source": [
    "## **phyPayload** aux rayons X\n",
    "\n",
    "Selon les spécifications LoRaWAN et dans notre cas particulier où nous n'analysons un paquet de \"up link\", le \"train\" de bits de la phyPayload, se décompose ainsi :\n",
    "\n",
    "| MHDR          |     MACPayload     |        MIC |\n",
    "| :------------ | :-------------:    | -------------: |\n",
    "| 1 octets      |     1 octets mini  |        4 octets |\n"
   ]
  },
  {
   "cell_type": "markdown",
   "metadata": {},
   "source": [
    "* **MHDR** (MAC Header). Spécifie le type de message (join request, data up, data down...) et la version du format de la trame LoRaWAN générée. Taille : 1 octet. Les 3 premiers codent le Mtype (le \"Message type\" : join request, accept, Unconfirmed Data Up,.. ). Pour de la donnée envoyée sans confirmation (Unconfirmed Data Up), ils valent 0b010 selon les spécifications.\n",
    "\n",
    "* **MACPayload** : ces octets contiennent le frame header (FHDR), suivi de façon optionnelle du Fport et de notre message frame payload (FRMPayload) : \n",
    " * **FHDR** : contient les adresses de source/destination et le compteur de messages (frame counter)\n",
    " * **Fport** : 0 si le message contient que des commandes MAC, autre valeur pour indiquer que les données dépendant d'une application\n",
    " * **FRMPayload** : contient notre message à déchiffrer !\n",
    " \n",
    "\n",
    "* **MIC** : Message Integrity Code sur 4 octets. Il est calculé à partir de la concaténation des champs MHDR et MACPayload.\n",
    "\n",
    "![Format message UpLinkk](LoRaWaN-uplink-message-format.png \"Format trame uplink en LoRaWAN\")"
   ]
  },
  {
   "cell_type": "code",
   "execution_count": 5,
   "metadata": {},
   "outputs": [],
   "source": [
    "MHDR = binData[0]\n",
    "Mtype = MHDR >> 5 # On récupère les 3 premiers bits de cet octet\n",
    "MACPayload = binData[1:-4]\n",
    "MIC = binData[-4:]"
   ]
  },
  {
   "cell_type": "markdown",
   "metadata": {},
   "source": [
    "Quel est le type de message considéré ? Il faut savoir si le MType vaut 0b010 (soit 2 en décimal)"
   ]
  },
  {
   "cell_type": "code",
   "execution_count": 6,
   "metadata": {},
   "outputs": [
    {
     "name": "stdout",
     "output_type": "stream",
     "text": [
      "0b10\n"
     ]
    }
   ],
   "source": [
    "print(bin(Mtype))"
   ]
  },
  {
   "cell_type": "markdown",
   "metadata": {},
   "source": [
    "## MACPayload\n",
    "\n",
    "Comme vu ci-dessus, la **MACPayload** est structurée de la façon suivante :\n",
    "\n",
    "\n",
    "| FHDR    |     FPort     |        FRMPayload |\n",
    "| :------------ | :-------------: | -------------: |\n",
    "| 7 à 22 octets       |     1 octets    | le reste... |\n",
    "\n",
    "Selon les spécification, le **FHDR** peut contenir jusqu'à 22 octets car on peut y rajouter des options. \n",
    "\n",
    "Il va donc falloir connaître le nombre de ces options afin de savoir à partir de quel octets commencent **FRMPayload** !"
   ]
  },
  {
   "cell_type": "code",
   "execution_count": 7,
   "metadata": {},
   "outputs": [
    {
     "name": "stdout",
     "output_type": "stream",
     "text": [
      "264b8e01809e0101c305b87b108b03f4d334b9\n"
     ]
    }
   ],
   "source": [
    "print(MACPayload.hex())"
   ]
  },
  {
   "cell_type": "markdown",
   "metadata": {},
   "source": [
    "### FHDR (Frame header) et FPort\n",
    "\n",
    "Le champ **FHDR** contient les informations suivantes :\n",
    "\n",
    "| DevAddr    |     FCtrl     |        FCnt |  FOpts\n",
    "| :------------ | :-------------: | -------------: |-------------: |\n",
    "| 4 octets       |     1 octet    | 2 octets | 0 à 15 octets |\n",
    "\n",
    "On peut donc déjà récupérer les informations **DevAddr**, **FCtrl** et le compteur de trames (_frame_) **FCnt**.\n",
    "\n",
    "* **DevAddr** est un entier 32 bits stocké sur 4 octets. Ligne 330 des specs : _The over-the-air octet order for all multi-octet fields is little endian_  Octet de poids faible au début.\n",
    "* **FCtrl** est un octet dont les 3 derniers bits codent la longueur du champ **FOpts** (ligne 499 et 670).\n",
    "* **FCnt** sur 2 octets est le compteur de messages. Ligne 653 : _Frame counters are 32bits wide, The FCntfield corresponds to the least-significant 16 bits_\n",
    "\n",
    "Nous pourrons ainsi vérifier que l'on a bien intercepté un message venant de notre objet dont le _DevAddr_ est 018e4b26"
   ]
  },
  {
   "cell_type": "code",
   "execution_count": 8,
   "metadata": {},
   "outputs": [
    {
     "name": "stdout",
     "output_type": "stream",
     "text": [
      "b'&K\\x8e\\x01\\x80\\x9e\\x01\\x01'\n"
     ]
    }
   ],
   "source": [
    "DevAddr_FCtrl_FCnt = MACPayload[:8] # 7 premiers octets\n",
    "print(DevAddr_FCtrl_FCnt)"
   ]
  },
  {
   "cell_type": "code",
   "execution_count": 9,
   "metadata": {},
   "outputs": [
    {
     "name": "stdout",
     "output_type": "stream",
     "text": [
      "  DevAddr: 018e4b26    FCtrl: 10000000   FCnt: 019e   FOpts0: 1\n"
     ]
    }
   ],
   "source": [
    "import struct # convertion de données au format structure C en type python\n",
    "\n",
    "DevAddr, FCtrl, FCnt, FOpts0 = struct.unpack(\"<IBHB\", DevAddr_FCtrl_FCnt) # unpack nécessite 1 octet, on ajoute l'octet 0 de FOpts pour combler\n",
    "\n",
    "# \"<IBHB\" signifie : \n",
    "# < : ordre des octets en little, I : unsigned int (4 octets), B : unsigned char (1 octet), H : unsigned short (2 octets)\n",
    "\n",
    "print(\"  DevAddr: {:08x}    FCtrl: {:b}   FCnt: {:04x}   FOpts0: {:0x}\".format(DevAddr, FCtrl, FCnt, FOpts0))"
   ]
  },
  {
   "cell_type": "markdown",
   "metadata": {},
   "source": [
    "On retrouve bien notre device. **FCnt** nous indique le numéro de trame interceptée.\n",
    "\n",
    "Afin de déterminer à partir de quels octets de **MACPayload** commence **FRMPayload**, il nous faut la longueur du champ **FOpts**.\n",
    "\n",
    "Comme vu, la longueur du champ **FOpts** est donnée par les 3 derniers bits de l'octet **FCtrl** :"
   ]
  },
  {
   "cell_type": "code",
   "execution_count": 10,
   "metadata": {},
   "outputs": [
    {
     "name": "stdout",
     "output_type": "stream",
     "text": [
      "FCtrl : 10000000\n",
      "FOpts a une taille de 0 octets\n",
      "cid: 1       payload: 11000011\n"
     ]
    }
   ],
   "source": [
    "print(\"FCtrl : {:b}\".format(FCtrl))\n",
    "print(\"FOpts a une taille de {} octets\".format(FCtrl & 111))\n",
    "cid , payload = struct.unpack(\"<BB\", MACPayload[7:9])\n",
    "print(\"cid: {:0x}       payload: {:0b}\".format(cid, payload)) # cid=5 : RXParamSetupReq"
   ]
  },
  {
   "cell_type": "markdown",
   "metadata": {},
   "source": [
    "On récupère la valeur de l'octet **FPort**. \n",
    "\n",
    "L'octet **FPort** doit être non-vide à partir du moment où il y a une **FRMPayload**.\n",
    "\n",
    "En fonction de celle-ci on saura quelle clé de chiffrement utiliser pour déchiffrer notre message :"
   ]
  },
  {
   "cell_type": "code",
   "execution_count": 11,
   "metadata": {},
   "outputs": [
    {
     "name": "stdout",
     "output_type": "stream",
     "text": [
      "5\n"
     ]
    }
   ],
   "source": [
    "print(MACPayload[9])"
   ]
  },
  {
   "cell_type": "markdown",
   "metadata": {},
   "source": [
    "Comme elle est différente de 0, la clé de chiffrement utilisée est la AppSKey (ligne 745)."
   ]
  },
  {
   "cell_type": "markdown",
   "metadata": {
    "toc-hr-collapsed": true,
    "toc-nb-collapsed": true
   },
   "source": [
    "### FRMPayload\n",
    "\n",
    "Nous avons donc 4+1+2+2=9 octets de **FHDR** suivis de un octet pour **FPort**. \n",
    "\n",
    "On peut ainsi récupérer le champ **FRMPayload** qui est notre message chiffré."
   ]
  },
  {
   "cell_type": "code",
   "execution_count": 12,
   "metadata": {},
   "outputs": [
    {
     "name": "stdout",
     "output_type": "stream",
     "text": [
      "FHDR et FPort sont sur 7 octets\n",
      "C305B87B108B03F4D334B9\n"
     ]
    }
   ],
   "source": [
    "lenFHDR_FPort = 4 + 1 + (FCtrl & 111) + 2\n",
    "print(\"FHDR et FPort sont sur {} octets\".format(lenFHDR_FPort))\n",
    "\n",
    "FRMPayload = MACPayload[lenFHDR_FPort+1:]\n",
    "print(str(FRMPayload.hex().upper())) # DC609B97D1CFF9CC95590B ou C305B87B108B03F4D334B9"
   ]
  },
  {
   "cell_type": "markdown",
   "metadata": {},
   "source": [
    "Selon les spécifications (ligne 741) l'algorithme de chiffrement utilisé est celui de la norme IEE802.15.4/2006, Annexe B qui utilise AES-128.\n",
    "\n",
    "La clé utilisée pour chiffrer dépend da la valeur présente dans le champ FPort :\n",
    "* FPort = 0 : la clé est NwkSKey\n",
    "* FPort = [1..255] : la clé est AppSKey\n",
    "\n",
    "Ici le FPort est différent de 0 donc la FRMPayload est chiffrée avec la **AppSKEY**."
   ]
  },
  {
   "cell_type": "markdown",
   "metadata": {},
   "source": [
    "## Chiffrement et déchiffrement de FRMPayload\n",
    "\n",
    "### Généralités\n",
    "\n",
    "Tout est expliqué en section 4.3.3 (ligne 738) des specs.\n",
    "\n",
    "Dans toute la suite, on notera pld=FRMPayload. \n",
    "\n",
    "Nous avons vu que FPort est différent de zéro. La clé, notée $K$ dans la suite, est donc _AppSKey_. D'où :"
   ]
  },
  {
   "cell_type": "code",
   "execution_count": 13,
   "metadata": {},
   "outputs": [
    {
     "name": "stdout",
     "output_type": "stream",
     "text": [
      "11 b'\\xc3\\x05\\xb8{\\x10\\x8b\\x03\\xf4\\xd34\\xb9'\n"
     ]
    }
   ],
   "source": [
    "pld = FRMPayload\n",
    "K = AppSKey\n",
    "blocksize = 16\n",
    "print(len(pld),pld)"
   ]
  },
  {
   "cell_type": "markdown",
   "metadata": {},
   "source": [
    "<div class=\"alert alert-success\">\n",
    "    Ici il est bien question de <b>déchiffrer</b> et <b>non décrypter</b> car nous avons la clé de chiffrement ! Voir <a>https://chiffrer.info/</a>\n",
    "</div>\n",
    "\n",
    "\n",
    "\n",
    "Selon les spécifications, chiffrement et déchiffrement du message s'opèrent en tronquant au _len(pld)_ premiers octets $(pld | pad_{16}) \\oplus S$, où : \n",
    "\n",
    "* $pad_{16}$ ajoute des octets de zéro afin que la longueur totale de la donnée soit un multiple de 16. \n",
    "* $S$ est un concaténé de chiffrés AES de certaines données que nous allons calculer.\n",
    "\n",
    "Selon les spécifications (p21) : $S=S_1 | S_2 | \\dots | S_k$ où $k=\\lceil len(pld)/16  \\rceil$ (par exemple si len(pld) est de 18, k vaudra 2). \n",
    "\n",
    "Par exemple : $S_i=aes128encrypt(K,A_i)$. $A_i$ est une nouvelle suite de blocs définie par :\n",
    "\n",
    "| 0x01      |   4 fois 0x00 |   Dir   | DevAddr  | FCntUP ou FCntDown | 0x00     |  i |\n",
    "| :------:  | :-----------: | :----:   |:-------:  |:-------------:   |:--------: |:------------: |\n",
    "| 1 octets  |     4 octets  | 1 octet | 4 octets | 4 octets           | 1 octets | 1 octet |\n",
    "\n",
    "* **Dir** vaut 0 pour un uplink (1 pour un downlink)\n",
    "* **FCntUP ou FCntDown**. Atttention, sur 4 octets alors que fCnt est sur 2 octets... Selon les spécifications (ligne 653) : the FCnt field corresponds to the least-significant 16 bits of the 32-bits frame counter (i.e., FCntUp for data frames sent uplink). Attention, nous sommes en little endian."
   ]
  },
  {
   "cell_type": "markdown",
   "metadata": {},
   "source": [
    "### Implémentation\n",
    "\n",
    "Le chiffrement AES est fait en mode ECB (_The network server uses an AES decrypt operation in ECB mode_). \n",
    "\n",
    "Dans notre exemple, la payload a une taille de 12 octets. Inutile donc de découper en blocs de taille 16 et nous n'aurons besoin que de $s_1$."
   ]
  },
  {
   "cell_type": "markdown",
   "metadata": {},
   "source": [
    "#### Calcul de $(pld | pad_{16})$\n",
    "\n",
    "Toujours selon les spécifications, on remplit avec des 0 de façons à avoir un bloc de taille 16. Notre bloc de départ ayant une taille de 12 :"
   ]
  },
  {
   "cell_type": "code",
   "execution_count": 14,
   "metadata": {},
   "outputs": [
    {
     "name": "stdout",
     "output_type": "stream",
     "text": [
      "b'\\xc3\\x05\\xb8{\\x10\\x8b\\x03\\xf4\\xd34\\xb9\\x00\\x00\\x00\\x00\\x00' 16 C305B87B108B03F4D334B90000000000\n"
     ]
    }
   ],
   "source": [
    "#pld_padded = pld + bytes.fromhex(\"0000000000\") # padding au marteau et burin !\n",
    "\n",
    "pld_padded = pld + bytearray(blocksize-len(pld))\n",
    "\n",
    "\n",
    "print(pld_padded, len(pld_padded), str(pld_padded.hex()).upper())"
   ]
  },
  {
   "cell_type": "markdown",
   "metadata": {},
   "source": [
    "#### Calcul de $A_1$ et de $S_1$"
   ]
  },
  {
   "cell_type": "code",
   "execution_count": 15,
   "metadata": {},
   "outputs": [
    {
     "name": "stdout",
     "output_type": "stream",
     "text": [
      "264b8e01\n",
      "9e010000\n",
      "b'\\x01\\x00\\x00\\x00\\x00\\x00&K\\x8e\\x01\\x9e\\x01\\x00\\x00\\x00\\x01' 16 010000000000264b8e019e0100000001\n"
     ]
    }
   ],
   "source": [
    "# FCnt as 32-bit, lsb first et little endian !\n",
    "# on converti à nouveau en structure de type C (l.653)\n",
    "FCntUP = struct.pack(\"<H\",FCnt) + bytes.fromhex(\"0000\") \n",
    "binDevAddr = struct.pack(\"<I\", DevAddr) # /!\\ endianness !\n",
    "\n",
    "print(binDevAddr.hex()) # 018e4b26 en big\n",
    "print(FCntUP.hex()) # 018e4b26 en big\n",
    "\n",
    "\n",
    "A1 = bytes.fromhex(\"01\") + bytes.fromhex(\"00\")*4 + bytes.fromhex(\"00\") + binDevAddr + FCntUP + bytes.fromhex(\"00\") + bytes.fromhex(\"01\") # tout en little endian visiblement !\n",
    "\n",
    "print(A1, len(A1),A1.hex()) # 16 010000000000264b8e01e30a00000001"
   ]
  },
  {
   "cell_type": "markdown",
   "metadata": {},
   "source": [
    "On voit que $A_i$ va dépendre du compteur de message. La \"clé\" utilsé pour chaque message sera donc différente."
   ]
  },
  {
   "cell_type": "markdown",
   "metadata": {},
   "source": [
    "On peut maintenant calculer $S_1$.\n",
    "\n",
    "On rappelle que $S_i=aes128encrypt(K,A_i)$. D'où :\n"
   ]
  },
  {
   "cell_type": "code",
   "execution_count": 16,
   "metadata": {},
   "outputs": [
    {
     "name": "stdout",
     "output_type": "stream",
     "text": [
      "16 9a4aed3d5fde4db09e7198cfa82f8303 <class 'bytes'>\n"
     ]
    }
   ],
   "source": [
    "from cryptography.hazmat.primitives.ciphers import Cipher, algorithms, modes\n",
    "from cryptography.hazmat.backends import default_backend\n",
    "\n",
    "K = bytes.fromhex(AppSKey)\n",
    "\n",
    "cipher = Cipher(algorithms.AES(K), modes.ECB() ,backend=default_backend())\n",
    "\n",
    "encryptor = cipher.encryptor()\n",
    "S1 = encryptor.update(A1)+encryptor.finalize()\n",
    "print(len(S1),S1.hex(), type(S1))"
   ]
  },
  {
   "cell_type": "markdown",
   "metadata": {},
   "source": [
    "On déchiffre alors la payload avec un $(pld | pad_{16})\\oplus S_1$ :"
   ]
  },
  {
   "cell_type": "code",
   "execution_count": 17,
   "metadata": {},
   "outputs": [
    {
     "name": "stdout",
     "output_type": "stream",
     "text": [
      "223900749531865444683089347\n",
      "4668841523509102916641846347846471513\n"
     ]
    }
   ],
   "source": [
    "#XOR ne marche qu'avec des entiers ou des str...\n",
    "# int(hexchar, 16)\n",
    "endianness = 'little' # semble inutile puisque ce sont des blocs de memoire\n",
    "\n",
    "int_pld_padded = int.from_bytes(pld_padded, endianness) # bytes to int\n",
    "print(int_pld_padded)\n",
    "int_S1 = int.from_bytes(S1, endianness)\n",
    "int_decrypted = int_pld_padded ^ int_S1\n",
    "print(int_decrypted)"
   ]
  },
  {
   "cell_type": "markdown",
   "metadata": {},
   "source": [
    "On convertit ensuite l'entier int_decrypted en octets que l'on tronque aux len(pld) premiers octets :"
   ]
  },
  {
   "cell_type": "code",
   "execution_count": 18,
   "metadata": {},
   "outputs": [
    {
     "name": "stdout",
     "output_type": "stream",
     "text": [
      "b'YOUFOUNDME!\\xcf\\xa8/\\x83\\x03'\n",
      "b'YOUFOUNDME!' little\n"
     ]
    }
   ],
   "source": [
    "decrypted = int_decrypted.to_bytes(len(S1), endianness)\n",
    "print(decrypted)\n",
    "pld_clair = decrypted[:len(pld)]\n",
    "print(pld_clair, endianness)"
   ]
  },
  {
   "cell_type": "markdown",
   "metadata": {},
   "source": [
    "On peut tout convertir en base 64 pour retrouver la payload que l'on peut avoir en s'abonnant au flux MQTT côté application :"
   ]
  },
  {
   "cell_type": "code",
   "execution_count": 19,
   "metadata": {},
   "outputs": [
    {
     "name": "stdout",
     "output_type": "stream",
     "text": [
      "b'WU9VRk9VTkRNRSE='\n",
      "594F55464F554E444D4521\n",
      "On doit avoir : \n",
      "594F55464F554E444D4521\n"
     ]
    }
   ],
   "source": [
    "import binascii\n",
    "\n",
    "\n",
    "pld_clair_base64 = base64.b64encode(pld_clair) # 6GJdtULRLotnNGg=\n",
    "print(pld_clair_base64)\n",
    "print(str(binascii.hexlify(pld_clair)).upper()[2:-1]) # en hexa\n",
    "print(\"On doit avoir : \\n594F55464F554E444D4521\")"
   ]
  },
  {
   "cell_type": "markdown",
   "metadata": {},
   "source": [
    "# Élements techniques"
   ]
  },
  {
   "cell_type": "code",
   "execution_count": 20,
   "metadata": {},
   "outputs": [
    {
     "name": "stdout",
     "output_type": "stream",
     "text": [
      "b'ABCDEFGHIJKL' 12\n",
      "\n",
      "binaire vers base 64 :\n",
      "b'\\x00\\x10\\x83\\x10Q\\x87 \\x92\\x8b'\n",
      "\n",
      "binaire vers héxadécimal :\n",
      "b'4142434445464748494a4b4c'\n",
      "\n",
      "unpack\n",
      "  a: 44434241    b: E   c: 00000000000000018246   d: 110 e: 4C4B4A49\n",
      "b'FG'\n",
      "b\"Et c'est le tout debut de ton atissage, petit Padawan! Courage...\"\n",
      "b'RXQgYydlc3QgbGUgdG91dCBkZWJ1dCBkZSB0b24gYXRpc3NhZ2UsIHBldGl0IFBhZGF3YW4hIENvdXJhZ2UuLi4=\\n'\n"
     ]
    }
   ],
   "source": [
    "import base64, binascii, struct\n",
    "octets = b'ABCDEFGHIJKL'\n",
    "print(octets, len(octets))\n",
    "print(\"\\nbinaire vers base 64 :\")\n",
    "octets_base64 = base64.b64decode(octets)\n",
    "print(octets_base64)\n",
    "print(\"\\nbinaire vers héxadécimal :\" )\n",
    "octets_hex = binascii.hexlify(octets)\n",
    "print(octets_hex)\n",
    "print(\"\\nunpack\")\n",
    "\n",
    "a, b, c, d, e = struct.unpack(\"=IBHBI\", octets) # https://docs.python.org/3/library/struct.htmlr\n",
    "# \"=IBHBI\" = : ordre des bits natifs, I : unsigned int (4 octets), B : unsigned char (1 octet), H : unsigned short (2 octets), B : unsigned char (1 octet)... \n",
    "print(\"  a: {:x}    b: {:c}   c: {:020}   d: {:o} e: {:X}\".format(a, b, c, d, e))\n",
    "\n",
    "octet_new = struct.pack(\"<H\",c)\n",
    "print(octet_new)\n",
    "\n",
    "u=binascii.hexlify(b\"Et c'est le tout debut de ton atissage, petit Padawan! Courage...\")\n",
    "\n",
    "octets = binascii.unhexlify(u)\n",
    "\n",
    "print(octets)\n",
    "\n",
    "octets_base64 = binascii.b2a_base64(octets)\n",
    "\n",
    "print(octets_base64)"
   ]
  },
  {
   "cell_type": "markdown",
   "metadata": {},
   "source": [
    "# Ressources\n",
    "\n",
    "https://lora-alliance.org/sites/default/files/2018-07/lorawan1.0.3.pdf\n",
    "\n",
    "https://lorawan-packet-decoder-0ta6puiniaut.runkit.sh/"
   ]
  },
  {
   "cell_type": "code",
   "execution_count": null,
   "metadata": {},
   "outputs": [],
   "source": []
  }
 ],
 "metadata": {
  "kernelspec": {
   "display_name": "Python 3",
   "language": "python",
   "name": "python3"
  },
  "language_info": {
   "codemirror_mode": {
    "name": "ipython",
    "version": 3
   },
   "file_extension": ".py",
   "mimetype": "text/x-python",
   "name": "python",
   "nbconvert_exporter": "python",
   "pygments_lexer": "ipython3",
   "version": "3.8.5"
  },
  "toc-autonumbering": false,
  "toc-showcode": false,
  "toc-showmarkdowntxt": false
 },
 "nbformat": 4,
 "nbformat_minor": 4
}
